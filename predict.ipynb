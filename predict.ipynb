{
 "cells": [
  {
   "cell_type": "code",
   "execution_count": 1,
   "metadata": {},
   "outputs": [],
   "source": [
    "import pandas as pd\n",
    "import numpy as np\n",
    "import matplotlib.pyplot as plt\n",
    "import seaborn as sns\n",
    "import tensorflow as tf\n",
    "from tensorflow.keras.models import load_model\n",
    "from sklearn.preprocessing import MinMaxScaler\n",
    "import pickle"
   ]
  },
  {
   "cell_type": "code",
   "execution_count": 2,
   "metadata": {},
   "outputs": [
    {
     "name": "stderr",
     "output_type": "stream",
     "text": [
      "WARNING:absl:Compiled the loaded model, but the compiled metrics have yet to be built. `model.compile_metrics` will be empty until you train or evaluate the model.\n"
     ]
    },
    {
     "name": "stdout",
     "output_type": "stream",
     "text": [
      "Model loaded successfully.\n"
     ]
    }
   ],
   "source": [
    "model = load_model('model.h5')\n",
    "print(\"Model loaded successfully.\")\n"
   ]
  },
  {
   "cell_type": "code",
   "execution_count": 3,
   "metadata": {},
   "outputs": [
    {
     "name": "stdout",
     "output_type": "stream",
     "text": [
      "Test data loaded successfully.\n"
     ]
    }
   ],
   "source": [
    "import pickle\n",
    "\n",
    "with open('scaled_data.pkl', 'rb') as file:\n",
    "    scaled_data = pickle.load(file)\n",
    "\n",
    "x_test_scaled_loaded = scaled_data['x_test_scaled']\n",
    "y_test_scaled_loaded = scaled_data['y_test_scaled']\n",
    "x_scaler = scaled_data['x_scaler']\n",
    "y_scaler = scaled_data['y_scaler']\n",
    "\n",
    "print(\"Test data loaded successfully.\")\n"
   ]
  },
  {
   "cell_type": "code",
   "execution_count": null,
   "metadata": {},
   "outputs": [
    {
     "name": "stdout",
     "output_type": "stream",
     "text": [
      "\u001b[1m5/5\u001b[0m \u001b[32m━━━━━━━━━━━━━━━━━━━━\u001b[0m\u001b[37m\u001b[0m \u001b[1m0s\u001b[0m 3ms/step \n",
      "          Actual     Predicted\n",
      "0    29754.66271  29645.318359\n",
      "1    48100.29052  48009.726562\n",
      "2    12536.93842  12770.561523\n",
      "3    42704.32210  42965.300781\n",
      "4    36086.93161  35868.417969\n",
      "..           ...           ...\n",
      "145  41984.62412  41719.113281\n",
      "146  38705.65839  39175.421875\n",
      "147  22091.11839  21922.941406\n",
      "148  52477.83479  52476.085938\n",
      "149  34803.82395  34733.542969\n",
      "\n",
      "[150 rows x 2 columns]\n"
     ]
    }
   ],
   "source": [
    "y_test_predictions_scaled = model.predict(x_test_scaled_loaded)\n",
    "\n",
    "y_test_predictions = y_scaler.inverse_transform(y_test_predictions_scaled)\n",
    "y_test_actual = y_scaler.inverse_transform(y_test_scaled_loaded)\n",
    "\n",
    "import pandas as pd\n",
    "\n",
    "test_results = pd.DataFrame({\n",
    "    'Actual': y_test_actual.flatten(),\n",
    "    'Predicted': y_test_predictions.flatten()\n",
    "})\n",
    "\n",
    "print(test_results)\n"
   ]
  },
  {
   "cell_type": "code",
   "execution_count": 6,
   "metadata": {},
   "outputs": [
    {
     "name": "stdout",
     "output_type": "stream",
     "text": [
      "\u001b[1m1/1\u001b[0m \u001b[32m━━━━━━━━━━━━━━━━━━━━\u001b[0m\u001b[37m\u001b[0m \u001b[1m0s\u001b[0m 57ms/step\n",
      "Predicted Car Price for new data: [89858.234]\n"
     ]
    },
    {
     "name": "stderr",
     "output_type": "stream",
     "text": [
      "/Users/parthabhang/Desktop/DL/Car price prediction/carenv/lib/python3.11/site-packages/sklearn/utils/validation.py:2739: UserWarning: X does not have valid feature names, but MinMaxScaler was fitted with feature names\n",
      "  warnings.warn(\n"
     ]
    }
   ],
   "source": [
    "import numpy as np\n",
    "\n",
    "new_data = np.array([[1,54,89333.67,2233, 1223990.78]])\n",
    "\n",
    "new_data_scaled = x_scaler.transform(new_data)\n",
    "\n",
    "new_data_predictions_scaled = model.predict(new_data_scaled)\n",
    "\n",
    "new_data_predictions = y_scaler.inverse_transform(new_data_predictions_scaled)\n",
    "\n",
    "print(\"Predicted Car Price for new data:\", new_data_predictions.flatten())\n"
   ]
  }
 ],
 "metadata": {
  "kernelspec": {
   "display_name": "Python 3",
   "language": "python",
   "name": "python3"
  },
  "language_info": {
   "codemirror_mode": {
    "name": "ipython",
    "version": 3
   },
   "file_extension": ".py",
   "mimetype": "text/x-python",
   "name": "python",
   "nbconvert_exporter": "python",
   "pygments_lexer": "ipython3",
   "version": "3.11.0"
  }
 },
 "nbformat": 4,
 "nbformat_minor": 2
}
